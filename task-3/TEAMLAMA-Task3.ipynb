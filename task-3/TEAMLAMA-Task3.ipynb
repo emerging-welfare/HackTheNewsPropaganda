{
 "cells": [
  {
   "cell_type": "markdown",
   "metadata": {},
   "source": [
    "### Team Lama  Task 3 Submission"
   ]
  },
  {
   "cell_type": "markdown",
   "metadata": {},
   "source": [
    "### 1) Initialization of the datasets\n",
    "\n",
    "In the default format the system is trained on the training set and tested on the test set.\n",
    "Please check the train_folder and test_folder names if you receive errors."
   ]
  },
  {
   "cell_type": "code",
   "execution_count": 1,
   "metadata": {},
   "outputs": [],
   "source": [
    "import matplotlib.pyplot as plt"
   ]
  },
  {
   "cell_type": "code",
   "execution_count": 2,
   "metadata": {},
   "outputs": [],
   "source": [
    "#dev_folder = \"train-split/tasks-2-3/train-dev\" # if dev folder and propaganda-techniques-names.txt are not in the same folder as this \n",
    "dev_folder = \"dev\"\n",
    "test_folder = \"test-Input/tasks-2-3/test\"\n",
    "propaganda_techniques_file = \"propaganda-techniques-names.txt\" # notebook, change these variables accordingly\n",
    "\n",
    "import glob\n",
    "import os.path\n",
    "import random\n",
    "import re\n",
    "\n",
    "regex = re.compile(\"article([0-9]+).*\") # regular expression for extracting article id from file name\n",
    "random.seed(10) # to make runs deterministic\n",
    "train_folder = \"train-split/tasks-2-3/train-train\""
   ]
  },
  {
   "cell_type": "markdown",
   "metadata": {},
   "source": [
    "Loading training data and the list of technique names\n",
    "If the testing is done on another set rather than the test set the variable \"test_folder\" should be replaced accordingly."
   ]
  },
  {
   "cell_type": "code",
   "execution_count": 3,
   "metadata": {},
   "outputs": [],
   "source": [
    "# loading articles' content from *.txt files in the dev folder\n",
    "#file_list = glob.glob(os.path.join(test_folder, \"*.txt\"))\n",
    "file_list = glob.glob(os.path.join(test_folder, \"*.txt\"))\n",
    "articles_content, articles_id = ([], [])\n",
    "for filename in file_list:\n",
    "    with open(filename, \"r\") as f:  \n",
    "        articles_content.append(f.read())\n",
    "        articles_id.append(regex.match(os.path.basename(filename)).group(1)) # extract article id from file name\n",
    "\n",
    "with open(propaganda_techniques_file, \"r\") as f:\n",
    "    propaganda_techniques_names = [ line.rstrip() for line in f.readlines() ]"
   ]
  },
  {
   "cell_type": "code",
   "execution_count": 4,
   "metadata": {},
   "outputs": [],
   "source": [
    "# loading articles' content from *.txt files in the dev folder\n",
    "train_file_list = glob.glob(os.path.join(train_folder, \"*.txt\"))\n",
    "train_articles_content, train_articles_id = ([], [])\n",
    "for filename in train_file_list:\n",
    "    with open(filename, \"r\") as f:  \n",
    "        train_articles_content.append(f.read())\n",
    "        train_articles_id.append(regex.match(os.path.basename(filename)).group(1)) # extract article id from file name"
   ]
  },
  {
   "cell_type": "markdown",
   "metadata": {},
   "source": [
    "### 2) Training phase on the training set"
   ]
  },
  {
   "cell_type": "code",
   "execution_count": 5,
   "metadata": {},
   "outputs": [],
   "source": [
    "import nltk\n",
    "from nltk.corpus import stopwords\n",
    "stops = set(stopwords.words('english'))"
   ]
  },
  {
   "cell_type": "markdown",
   "metadata": {},
   "source": [
    "Keywords for each label type is extracted from the training set."
   ]
  },
  {
   "cell_type": "code",
   "execution_count": 6,
   "metadata": {},
   "outputs": [],
   "source": [
    "def keywordcounter():\n",
    "    #print(propaganda_techniques_names)\n",
    "    my_dict={key: {} for   key in propaganda_techniques_names}\n",
    "    for file in train_file_list:\n",
    "        doc = open(file[:-4]+\".txt\").read()\n",
    "        labels = open(file[:-4]+\".task3.labels\").readlines()\n",
    "        for line in labels:\n",
    "            ls = line.split()\n",
    "            label = ls[1]\n",
    "            inds = (int(ls[2]),int(ls[3]))\n",
    "            frag = doc[inds[0]:inds[1]]\n",
    "            #print(label +\"\\t\"+ frag)\n",
    "            fs = frag.split()\n",
    "            for f in fs:\n",
    "                if  f not in stops:\n",
    "                    if f in my_dict[label]:\n",
    "                        my_dict[label][f]+=1\n",
    "                    else:\n",
    "                        my_dict[label][f]=1\n",
    "        my_dict2={key: {} for   key in propaganda_techniques_names}\n",
    "        for key in my_dict:\n",
    "            for key2 in my_dict[key]:\n",
    "                #print(key2)\n",
    "                if my_dict[key][key2]>1:\n",
    "                    my_dict2[key][key2]=my_dict[key][key2]\n",
    "    return my_dict2"
   ]
  },
  {
   "cell_type": "markdown",
   "metadata": {},
   "source": [
    "We have calculated the weights of each keyword inversely proportional to their frequencies"
   ]
  },
  {
   "cell_type": "code",
   "execution_count": 7,
   "metadata": {},
   "outputs": [],
   "source": [
    "keywords = keywordcounter()\n",
    "def countfreqs(keywords):\n",
    "    keycounts = {}\n",
    "    for label in keywords:\n",
    "        for word in keywords[label]:\n",
    "            keycounts[word]=0\n",
    "    for file in train_file_list:\n",
    "        doc = open(file[:-4]+\".txt\").read()\n",
    "        for key in keycounts:\n",
    "            keycounts[key]+=doc.count(key)\n",
    "    return keycounts"
   ]
  },
  {
   "cell_type": "code",
   "execution_count": 8,
   "metadata": {},
   "outputs": [],
   "source": [
    "keycounts = countfreqs(keywords)"
   ]
  },
  {
   "cell_type": "code",
   "execution_count": 9,
   "metadata": {},
   "outputs": [],
   "source": [
    "import math\n",
    "keyweights={}\n",
    "tot = sum(keycounts.values())\n",
    "for key in keycounts:\n",
    "    keyweights[key]= math.sqrt(tot/keycounts[key])"
   ]
  },
  {
   "cell_type": "markdown",
   "metadata": {},
   "source": [
    "#### keyword weighing example"
   ]
  },
  {
   "cell_type": "code",
   "execution_count": 16,
   "metadata": {},
   "outputs": [
    {
     "data": {
      "image/png": "[encoded data removed]",
      "text/plain": [
       "<Figure size 1440x720 with 1 Axes>"
      ]
     },
     "metadata": {
      "needs_background": "light"
     },
     "output_type": "display_data"
    },
    {
     "data": {
      "text/plain": [
       "<Figure size 432x288 with 0 Axes>"
      ]
     },
     "metadata": {},
     "output_type": "display_data"
    }
   ],
   "source": [
    "tech_id = 4\n",
    "tech_name = propaganda_techniques_names[tech_id]\n",
    "topx = 15\n",
    "keylabel = keywords[tech_name]\n",
    "weightpr = []\n",
    "for key in keylabel:\n",
    "    weightpr.append((keyweights[key],key))\n",
    "weightpr.sort()\n",
    "topweights = [x[0] for x in weightpr[-topx:]]\n",
    "topkeys = [x[1] for x in weightpr[-topx:]]\n",
    "plt.figure(figsize=(20,10))\n",
    "plt.bar(topkeys,topweights)\n",
    "plt.title(\"Top %d keys for label: %s\"%(topx,tech_name))\n",
    "plt.show()\n",
    "plt.savefig(\"keywordgraph\")"
   ]
  },
  {
   "cell_type": "markdown",
   "metadata": {},
   "source": [
    "### 3)Prediction Phase\n",
    "During the prediction phase we have selected the label type which has the maximum score by making use of the keywords extracted on the training phase.\n",
    "\n",
    "The predictions are written to the document named \"example-submission-task3-predictions.txt\""
   ]
  },
  {
   "cell_type": "code",
   "execution_count": 294,
   "metadata": {},
   "outputs": [],
   "source": [
    "with open(\"example-submission-task3-predictions.txt\", \"w\") as fout:\n",
    "    for article_content, article_id in zip(articles_content, articles_id):\n",
    "        #print(article_id)\n",
    "        start_fragment, end_fragment, article_length = (0, 0, len(article_content))\n",
    "        current_article_annotations = []\n",
    "        #inds = {}\n",
    "        sents = article_content.split(\"\\n\")\n",
    "        #print(article_id)\n",
    "        index = 0\n",
    "        previnds = [(-1,-1)]\n",
    "        for sent in sents:\n",
    "            if len(inds)!=0:\n",
    "                previnds = inds\n",
    "            maxinds = 0\n",
    "            maxname = \"\"\n",
    "            maxfrag= []\n",
    "            for tech_name in propaganda_techniques_names:\n",
    "                my_keys = keywords[tech_name]\n",
    "                keycount = 0\n",
    "                inds = []\n",
    "                for key in my_keys:\n",
    "                    ind=sent.find(key)\n",
    "                    #print(key)\n",
    "                    if ind!=-1:\n",
    "                        keycount+= my_keys[key]*keyweights[key]\n",
    "                        #inds.append((ind,ind+len(key)))\n",
    "                if keycount> maxinds:\n",
    "                    maxinds=keycount\n",
    "                    maxfrag = sent\n",
    "                    maxname = tech_name\n",
    "            inds = []\n",
    "            if maxinds>0:\n",
    "                ind1 = article_content[index:].find(sent)+index\n",
    "                ind2 = ind1+len(sent)\n",
    "                #inds = (ind1,ind2)\n",
    "                if previnds[0]!=ind1:\n",
    "                    inds= [(ind1,ind2)]\n",
    "                #print(inds)\n",
    "            index+= len(sent)\n",
    "            for ind in inds:\n",
    "                start_fragment= ind[0]\n",
    "                end_fragment = ind[1]\n",
    "                if end_fragment > 0:\n",
    "                    technique_name = maxname\n",
    "                    #technique_name = propaganda_techniques_names[random.randint(0, len(propaganda_techniques_names)-1)]\n",
    "                    # check that there is no other annotation for the same article and technique that overlaps\n",
    "                    intersection_length = 0\n",
    "                    if len(current_article_annotations) > 0:\n",
    "                        span_annotation = set(range(start_fragment, end_fragment))\n",
    "                        intersection_length = sum( [ len(span_annotation.intersection(previous_fragment))\n",
    "                                 for previous_technique, previous_fragment in current_article_annotations \n",
    "                                 if previous_technique==technique_name ])\n",
    "                    if len(current_article_annotations) == 0 or intersection_length > -1:\n",
    "                        #print(\"start: %s %s\"%(start_fragment,end_fragment))\n",
    "                        fout.write(\"%s\\t%s\\t%s\\t%s\\n\" % (article_id, technique_name, start_fragment, end_fragment))\n",
    "                        current_article_annotations.append((technique_name, set(range(start_fragment, end_fragment))))\n",
    "                #start_fragment += random.randint(0, max(1, article_length-start_fragment))\n",
    "                #end_fragment = min(start_fragment + random.randint(1,25), article_length)\n",
    "            #print(\"article %s: added %d fragments\" % (article_id, len(current_article_annotations)))    "
   ]
  },
  {
   "cell_type": "code",
   "execution_count": null,
   "metadata": {},
   "outputs": [],
   "source": []
  }
 ],
 "metadata": {
  "kernelspec": {
   "display_name": "Python 3",
   "language": "python",
   "name": "python3"
  },
  "language_info": {
   "codemirror_mode": {
    "name": "ipython",
    "version": 3
   },
   "file_extension": ".py",
   "mimetype": "text/x-python",
   "name": "python",
   "nbconvert_exporter": "python",
   "pygments_lexer": "ipython3",
   "version": "3.7.0"
  }
 },
 "nbformat": 4,
 "nbformat_minor": 2
}
